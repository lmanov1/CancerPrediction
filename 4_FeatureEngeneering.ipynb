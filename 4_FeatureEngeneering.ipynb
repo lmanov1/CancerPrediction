{
 "cells": [
  {
   "cell_type": "code",
   "execution_count": 45,
   "metadata": {},
   "outputs": [],
   "source": [
    "import warnings\n",
    "\n",
    "# Ignore warnings\n",
    "warnings.filterwarnings('ignore')"
   ]
  },
  {
   "cell_type": "markdown",
   "metadata": {},
   "source": [
    "Let's load the dataset from previos step - cleansed data"
   ]
  },
  {
   "cell_type": "code",
   "execution_count": 46,
   "metadata": {},
   "outputs": [],
   "source": [
    "import pandas as pd\n",
    "import numpy as np\n",
    "import seaborn as sb\n",
    "from scipy.stats import zscore, ks_2samp\n",
    "\n",
    "df_fe = pd.read_pickle(\"IntermidiateData/3_Final_Cancer_Data.pkl\")"
   ]
  },
  {
   "cell_type": "code",
   "execution_count": 47,
   "metadata": {},
   "outputs": [
    {
     "data": {
      "text/plain": [
       "(569, 31)"
      ]
     },
     "execution_count": 47,
     "metadata": {},
     "output_type": "execute_result"
    }
   ],
   "source": [
    "df_fe.head()\n",
    "df_fe.shape"
   ]
  },
  {
   "cell_type": "markdown",
   "metadata": {},
   "source": [
    "# Label encoding\n"
   ]
  },
  {
   "cell_type": "code",
   "execution_count": 48,
   "metadata": {},
   "outputs": [
    {
     "data": {
      "text/html": [
       "<div>\n",
       "<style scoped>\n",
       "    .dataframe tbody tr th:only-of-type {\n",
       "        vertical-align: middle;\n",
       "    }\n",
       "\n",
       "    .dataframe tbody tr th {\n",
       "        vertical-align: top;\n",
       "    }\n",
       "\n",
       "    .dataframe thead th {\n",
       "        text-align: right;\n",
       "    }\n",
       "</style>\n",
       "<table border=\"1\" class=\"dataframe\">\n",
       "  <thead>\n",
       "    <tr style=\"text-align: right;\">\n",
       "      <th></th>\n",
       "      <th>diagnosis</th>\n",
       "      <th>radius_mean</th>\n",
       "      <th>texture_mean</th>\n",
       "      <th>perimeter_mean</th>\n",
       "      <th>area_mean</th>\n",
       "      <th>smoothness_mean</th>\n",
       "      <th>compactness_mean</th>\n",
       "      <th>concavity_mean</th>\n",
       "      <th>concave points_mean</th>\n",
       "      <th>symmetry_mean</th>\n",
       "      <th>...</th>\n",
       "      <th>radius_worst</th>\n",
       "      <th>texture_worst</th>\n",
       "      <th>perimeter_worst</th>\n",
       "      <th>area_worst</th>\n",
       "      <th>smoothness_worst</th>\n",
       "      <th>compactness_worst</th>\n",
       "      <th>concavity_worst</th>\n",
       "      <th>concave points_worst</th>\n",
       "      <th>symmetry_worst</th>\n",
       "      <th>fractal_dimension_worst</th>\n",
       "    </tr>\n",
       "  </thead>\n",
       "  <tbody>\n",
       "    <tr>\n",
       "      <th>0</th>\n",
       "      <td>1</td>\n",
       "      <td>17.99</td>\n",
       "      <td>10.38</td>\n",
       "      <td>122.8</td>\n",
       "      <td>1001.0</td>\n",
       "      <td>0.11840</td>\n",
       "      <td>0.27760</td>\n",
       "      <td>0.3001</td>\n",
       "      <td>0.14710</td>\n",
       "      <td>0.2419</td>\n",
       "      <td>...</td>\n",
       "      <td>25.38</td>\n",
       "      <td>17.33</td>\n",
       "      <td>184.6</td>\n",
       "      <td>2019.0</td>\n",
       "      <td>0.1622</td>\n",
       "      <td>0.6656</td>\n",
       "      <td>0.7119</td>\n",
       "      <td>0.2654</td>\n",
       "      <td>0.4601</td>\n",
       "      <td>0.11890</td>\n",
       "    </tr>\n",
       "    <tr>\n",
       "      <th>1</th>\n",
       "      <td>1</td>\n",
       "      <td>20.57</td>\n",
       "      <td>17.77</td>\n",
       "      <td>132.9</td>\n",
       "      <td>1326.0</td>\n",
       "      <td>0.08474</td>\n",
       "      <td>0.07864</td>\n",
       "      <td>0.0869</td>\n",
       "      <td>0.07017</td>\n",
       "      <td>0.1812</td>\n",
       "      <td>...</td>\n",
       "      <td>24.99</td>\n",
       "      <td>23.41</td>\n",
       "      <td>158.8</td>\n",
       "      <td>1956.0</td>\n",
       "      <td>0.1238</td>\n",
       "      <td>0.1866</td>\n",
       "      <td>0.2416</td>\n",
       "      <td>0.1860</td>\n",
       "      <td>0.2750</td>\n",
       "      <td>0.08902</td>\n",
       "    </tr>\n",
       "  </tbody>\n",
       "</table>\n",
       "<p>2 rows × 31 columns</p>\n",
       "</div>"
      ],
      "text/plain": [
       "   diagnosis  radius_mean  texture_mean  perimeter_mean  area_mean  \\\n",
       "0          1        17.99         10.38           122.8     1001.0   \n",
       "1          1        20.57         17.77           132.9     1326.0   \n",
       "\n",
       "   smoothness_mean  compactness_mean  concavity_mean  concave points_mean  \\\n",
       "0          0.11840           0.27760          0.3001              0.14710   \n",
       "1          0.08474           0.07864          0.0869              0.07017   \n",
       "\n",
       "   symmetry_mean  ...  radius_worst  texture_worst  perimeter_worst  \\\n",
       "0         0.2419  ...         25.38          17.33            184.6   \n",
       "1         0.1812  ...         24.99          23.41            158.8   \n",
       "\n",
       "   area_worst  smoothness_worst  compactness_worst  concavity_worst  \\\n",
       "0      2019.0            0.1622             0.6656           0.7119   \n",
       "1      1956.0            0.1238             0.1866           0.2416   \n",
       "\n",
       "   concave points_worst  symmetry_worst  fractal_dimension_worst  \n",
       "0                0.2654          0.4601                  0.11890  \n",
       "1                0.1860          0.2750                  0.08902  \n",
       "\n",
       "[2 rows x 31 columns]"
      ]
     },
     "metadata": {},
     "output_type": "display_data"
    }
   ],
   "source": [
    "from sklearn.preprocessing import LabelEncoder\n",
    "\n",
    "# Create an instance of LabelEncoder\n",
    "label_encoder = LabelEncoder()\n",
    "# Label encode the 'diagnosis' column\n",
    "df_fe['diagnosis'] = label_encoder.fit_transform(df_fe['diagnosis'])\n",
    "# Print the updated dataframe\n",
    "display(df_fe.head(2))"
   ]
  },
  {
   "cell_type": "markdown",
   "metadata": {},
   "source": [
    "From now and on , when target variable is numberic (mapped 1: malignant , 0: benign) - it can be used with various models for prediction and feature selection.     \n"
   ]
  },
  {
   "cell_type": "markdown",
   "metadata": {},
   "source": [
    "The outliers were handled previously , and as we could see dropping existing outliers will not affect distribution / correlation to a target.  \n",
    "Therefore there is no need for futher scaling or normalization of the data. In addition,  It seems that some of the features in dataset was already standartized (values between 0 and 1 , no negative values)."
   ]
  },
  {
   "cell_type": "code",
   "execution_count": 49,
   "metadata": {},
   "outputs": [],
   "source": [
    "import seaborn as sns\n",
    "import matplotlib.pyplot as plt   \n",
    "\n",
    "# def plot_jointplot(df, featurex, featurey , outcomename='diagnosis' , title = 'before transformation'):    \n",
    "#     df_info = pd.DataFrame({ 'mean': [df[featurex].mean() , df[featurey].mean()],\n",
    "#                              'std': [df[featurex].std() , df[featurey].std()]})\n",
    "#     print(f'Comparision of {featurex} vs. {featurey} {title} ')\n",
    "#     sns.jointplot(x=featurex, y=featurey, data=df, kind='reg', color='green',height=5)    \n",
    "#     plt.show()\n",
    "    \n",
    "# plot_jointplot(df_fe , 'area_mean', 'radius_mean')\n",
    "\n"
   ]
  },
  {
   "cell_type": "markdown",
   "metadata": {},
   "source": [
    "As seems in the above visualization, neither distribution correlation to a target did not change.\n"
   ]
  },
  {
   "cell_type": "markdown",
   "metadata": {},
   "source": [
    "As seen in EDA notebook , there is data is balanced enougth (40% malignant and 60% benign) to use the data as is."
   ]
  },
  {
   "cell_type": "markdown",
   "metadata": {},
   "source": [
    "# Lets show that this dataset has good chances for classification , using unsuperwised learning"
   ]
  },
  {
   "cell_type": "code",
   "execution_count": 50,
   "metadata": {},
   "outputs": [],
   "source": [
    "X = df_fe.drop('diagnosis', axis=1)\n",
    "y = df_fe['diagnosis']"
   ]
  },
  {
   "cell_type": "markdown",
   "metadata": {},
   "source": [
    "## KMeans"
   ]
  },
  {
   "cell_type": "code",
   "execution_count": 51,
   "metadata": {},
   "outputs": [],
   "source": [
    "from sklearn.cluster import KMeans\n",
    "# from sklearn.metrics import silhouette\n",
    "from sklearn.metrics import silhouette_score\n",
    "from sklearn.metrics import f1_score , roc_auc_score\n",
    "from sklearn.metrics import recall_score, accuracy_score , confusion_matrix , precision_score , classification_report\n",
    "\n",
    "unsupervised_metrics_df = pd.DataFrame(columns=['Accuracy', 'Precision', 'Recall', 'F1', 'AUC', 'Silhouette Score'])\n",
    "\n",
    "def print_metrics(model, targs, preds):\n",
    "        print(f'Confusion matrix for {model}]:')\n",
    "        display(pd.crosstab(targs, preds ,rownames=['Pred'], colnames=['Actual'], margins=True, margins_name=\"Total\"))  \n",
    "        model_name = type(model).__name__        \n",
    "        unsupervised_metrics_df.loc[model_name] = [accuracy_score(targs, preds), precision_score(targs, preds), recall_score(targs, preds), f1_score(targs, preds), roc_auc_score(targs, preds), silhouette_score(pd.DataFrame(targs), preds)]\n",
    "        #print(classification_report(targs, preds))\n",
    "\n",
    "\n",
    "def plot_kmeans(df, feature1, feature2, model):\n",
    "    # Plot the KMeans clustering\n",
    "    plt.figure(figsize=(10, 6))\n",
    "    plt.scatter(df[feature1], df[feature2], c=model.labels_, cmap='viridis')\n",
    "    plt.scatter(model.cluster_centers_[:, 0], model.cluster_centers_[:, 1], s=300, c='red', marker='x')\n",
    "    plt.xlabel(feature1)\n",
    "    plt.ylabel(feature2)\n",
    "    plt.title(f'KMeans clustering')\n",
    "    plt.show()\n"
   ]
  },
  {
   "cell_type": "markdown",
   "metadata": {},
   "source": [
    "Lets start with a simple KMeans clustering model"
   ]
  },
  {
   "cell_type": "code",
   "execution_count": 52,
   "metadata": {},
   "outputs": [
    {
     "data": {
      "text/plain": [
       "<Axes: title={'center': 'KMeans clustering for radius_mean vs. fractal_dimension_mean'}, xlabel='radius_mean', ylabel='fractal_dimension_mean'>"
      ]
     },
     "execution_count": 52,
     "metadata": {},
     "output_type": "execute_result"
    },
    {
     "data": {
      "image/png": "[encoded data removed]",
      "text/plain": [
       "<Figure size 600x400 with 1 Axes>"
      ]
     },
     "metadata": {},
     "output_type": "display_data"
    },
    {
     "data": {
      "image/png": "[encoded data removed]",
      "text/plain": [
       "<Figure size 600x400 with 1 Axes>"
      ]
     },
     "metadata": {},
     "output_type": "display_data"
    }
   ],
   "source": [
    "# ==============================================================================\n",
    "kmodel = KMeans(n_clusters=2, random_state=1).fit(X)    \n",
    "labels = kmodel.predict(X)    \n",
    "\n",
    "# ==============================================================================\n",
    "# plot Original correlation for radius_mean vs. fractal_dimension_mean'\n",
    "fig, axs=plt.subplots(1,1,figsize=(6,4))\n",
    "axs.set_title('Original correlation for radius_mean vs. fractal_dimension_mean')\n",
    "sns.scatterplot(x=df_fe['radius_mean'], y=df_fe['fractal_dimension_mean'],hue=df_fe['diagnosis'], ax=axs)\n",
    "\n",
    "# plot kmeans  \n",
    "fig, axs=plt.subplots(1,1,figsize=(6,4))    \n",
    "axs.set_title('KMeans clustering for radius_mean vs. fractal_dimension_mean')\n",
    "sns.scatterplot(x=X['radius_mean'], y=X['fractal_dimension_mean'],hue=kmodel.labels_, ax=axs)\n"
   ]
  },
  {
   "cell_type": "code",
   "execution_count": 53,
   "metadata": {},
   "outputs": [
    {
     "name": "stdout",
     "output_type": "stream",
     "text": [
      "Confusion matrix for KMeans(n_clusters=2, random_state=1)]:\n"
     ]
    },
    {
     "data": {
      "text/html": [
       "<div>\n",
       "<style scoped>\n",
       "    .dataframe tbody tr th:only-of-type {\n",
       "        vertical-align: middle;\n",
       "    }\n",
       "\n",
       "    .dataframe tbody tr th {\n",
       "        vertical-align: top;\n",
       "    }\n",
       "\n",
       "    .dataframe thead th {\n",
       "        text-align: right;\n",
       "    }\n",
       "</style>\n",
       "<table border=\"1\" class=\"dataframe\">\n",
       "  <thead>\n",
       "    <tr style=\"text-align: right;\">\n",
       "      <th>Actual</th>\n",
       "      <th>0</th>\n",
       "      <th>1</th>\n",
       "      <th>Total</th>\n",
       "    </tr>\n",
       "    <tr>\n",
       "      <th>Pred</th>\n",
       "      <th></th>\n",
       "      <th></th>\n",
       "      <th></th>\n",
       "    </tr>\n",
       "  </thead>\n",
       "  <tbody>\n",
       "    <tr>\n",
       "      <th>0</th>\n",
       "      <td>1</td>\n",
       "      <td>356</td>\n",
       "      <td>357</td>\n",
       "    </tr>\n",
       "    <tr>\n",
       "      <th>1</th>\n",
       "      <td>130</td>\n",
       "      <td>82</td>\n",
       "      <td>212</td>\n",
       "    </tr>\n",
       "    <tr>\n",
       "      <th>Total</th>\n",
       "      <td>131</td>\n",
       "      <td>438</td>\n",
       "      <td>569</td>\n",
       "    </tr>\n",
       "  </tbody>\n",
       "</table>\n",
       "</div>"
      ],
      "text/plain": [
       "Actual    0    1  Total\n",
       "Pred                   \n",
       "0         1  356    357\n",
       "1       130   82    212\n",
       "Total   131  438    569"
      ]
     },
     "metadata": {},
     "output_type": "display_data"
    }
   ],
   "source": [
    "print_metrics(kmodel, y , labels)"
   ]
  },
  {
   "cell_type": "markdown",
   "metadata": {},
   "source": [
    "Looks like clusters are transposed, but althought if so , \n",
    "we can see here that kmeans was good at identification of benign cases (356 out of 357) but not good enough identificating (separating) malignancy (130 of 212 - about 60% accuracy ) ,which is bad , especially in medical predictions.\n",
    "Total accuracy , precision , recall and rest of metrics are quite low. \n"
   ]
  },
  {
   "cell_type": "markdown",
   "metadata": {},
   "source": [
    "## One class SVM and Gaussian mixture"
   ]
  },
  {
   "cell_type": "markdown",
   "metadata": {},
   "source": [
    "Lets try OneClassSVM which also can be used for unsuperwised learning , and GaussianMixture as well"
   ]
  },
  {
   "cell_type": "code",
   "execution_count": 54,
   "metadata": {},
   "outputs": [
    {
     "name": "stdout",
     "output_type": "stream",
     "text": [
      "Percentages and counts of the target values:\n"
     ]
    },
    {
     "data": {
      "text/html": [
       "<div>\n",
       "<style scoped>\n",
       "    .dataframe tbody tr th:only-of-type {\n",
       "        vertical-align: middle;\n",
       "    }\n",
       "\n",
       "    .dataframe tbody tr th {\n",
       "        vertical-align: top;\n",
       "    }\n",
       "\n",
       "    .dataframe thead th {\n",
       "        text-align: right;\n",
       "    }\n",
       "</style>\n",
       "<table border=\"1\" class=\"dataframe\">\n",
       "  <thead>\n",
       "    <tr style=\"text-align: right;\">\n",
       "      <th></th>\n",
       "      <th>diagnosis</th>\n",
       "      <th>count</th>\n",
       "    </tr>\n",
       "  </thead>\n",
       "  <tbody>\n",
       "    <tr>\n",
       "      <th>Benign</th>\n",
       "      <td>0</td>\n",
       "      <td>357</td>\n",
       "    </tr>\n",
       "    <tr>\n",
       "      <th>Malignant</th>\n",
       "      <td>1</td>\n",
       "      <td>212</td>\n",
       "    </tr>\n",
       "  </tbody>\n",
       "</table>\n",
       "</div>"
      ],
      "text/plain": [
       "           diagnosis  count\n",
       "Benign             0    357\n",
       "Malignant          1    212"
      ]
     },
     "metadata": {},
     "output_type": "display_data"
    },
    {
     "name": "stdout",
     "output_type": "stream",
     "text": [
      "nu: 0.37258347978910367\n",
      "Confusion matrix for OneClassSVM(gamma=5e-05, nu=0.37258347978910367)]:\n"
     ]
    },
    {
     "data": {
      "text/html": [
       "<div>\n",
       "<style scoped>\n",
       "    .dataframe tbody tr th:only-of-type {\n",
       "        vertical-align: middle;\n",
       "    }\n",
       "\n",
       "    .dataframe tbody tr th {\n",
       "        vertical-align: top;\n",
       "    }\n",
       "\n",
       "    .dataframe thead th {\n",
       "        text-align: right;\n",
       "    }\n",
       "</style>\n",
       "<table border=\"1\" class=\"dataframe\">\n",
       "  <thead>\n",
       "    <tr style=\"text-align: right;\">\n",
       "      <th>Actual</th>\n",
       "      <th>-1</th>\n",
       "      <th>1</th>\n",
       "      <th>Total</th>\n",
       "    </tr>\n",
       "    <tr>\n",
       "      <th>Pred</th>\n",
       "      <th></th>\n",
       "      <th></th>\n",
       "      <th></th>\n",
       "    </tr>\n",
       "  </thead>\n",
       "  <tbody>\n",
       "    <tr>\n",
       "      <th>-1</th>\n",
       "      <td>154</td>\n",
       "      <td>53</td>\n",
       "      <td>207</td>\n",
       "    </tr>\n",
       "    <tr>\n",
       "      <th>1</th>\n",
       "      <td>58</td>\n",
       "      <td>304</td>\n",
       "      <td>362</td>\n",
       "    </tr>\n",
       "    <tr>\n",
       "      <th>Total</th>\n",
       "      <td>212</td>\n",
       "      <td>357</td>\n",
       "      <td>569</td>\n",
       "    </tr>\n",
       "  </tbody>\n",
       "</table>\n",
       "</div>"
      ],
      "text/plain": [
       "Actual   -1    1  Total\n",
       "Pred                   \n",
       "-1      154   53    207\n",
       "1        58  304    362\n",
       "Total   212  357    569"
      ]
     },
     "metadata": {},
     "output_type": "display_data"
    },
    {
     "name": "stdout",
     "output_type": "stream",
     "text": [
      "Confusion matrix for GaussianMixture(n_components=2, random_state=1)]:\n"
     ]
    },
    {
     "data": {
      "text/html": [
       "<div>\n",
       "<style scoped>\n",
       "    .dataframe tbody tr th:only-of-type {\n",
       "        vertical-align: middle;\n",
       "    }\n",
       "\n",
       "    .dataframe tbody tr th {\n",
       "        vertical-align: top;\n",
       "    }\n",
       "\n",
       "    .dataframe thead th {\n",
       "        text-align: right;\n",
       "    }\n",
       "</style>\n",
       "<table border=\"1\" class=\"dataframe\">\n",
       "  <thead>\n",
       "    <tr style=\"text-align: right;\">\n",
       "      <th>Actual</th>\n",
       "      <th>0</th>\n",
       "      <th>1</th>\n",
       "      <th>Total</th>\n",
       "    </tr>\n",
       "    <tr>\n",
       "      <th>Pred</th>\n",
       "      <th></th>\n",
       "      <th></th>\n",
       "      <th></th>\n",
       "    </tr>\n",
       "  </thead>\n",
       "  <tbody>\n",
       "    <tr>\n",
       "      <th>0</th>\n",
       "      <td>11</td>\n",
       "      <td>195</td>\n",
       "      <td>206</td>\n",
       "    </tr>\n",
       "    <tr>\n",
       "      <th>1</th>\n",
       "      <td>346</td>\n",
       "      <td>17</td>\n",
       "      <td>363</td>\n",
       "    </tr>\n",
       "    <tr>\n",
       "      <th>Total</th>\n",
       "      <td>357</td>\n",
       "      <td>212</td>\n",
       "      <td>569</td>\n",
       "    </tr>\n",
       "  </tbody>\n",
       "</table>\n",
       "</div>"
      ],
      "text/plain": [
       "Actual    0    1  Total\n",
       "Pred                   \n",
       "0        11  195    206\n",
       "1       346   17    363\n",
       "Total   357  212    569"
      ]
     },
     "metadata": {},
     "output_type": "display_data"
    },
    {
     "data": {
      "text/html": [
       "<div>\n",
       "<style scoped>\n",
       "    .dataframe tbody tr th:only-of-type {\n",
       "        vertical-align: middle;\n",
       "    }\n",
       "\n",
       "    .dataframe tbody tr th {\n",
       "        vertical-align: top;\n",
       "    }\n",
       "\n",
       "    .dataframe thead th {\n",
       "        text-align: right;\n",
       "    }\n",
       "</style>\n",
       "<table border=\"1\" class=\"dataframe\">\n",
       "  <thead>\n",
       "    <tr style=\"text-align: right;\">\n",
       "      <th></th>\n",
       "      <th>Accuracy</th>\n",
       "      <th>Precision</th>\n",
       "      <th>Recall</th>\n",
       "      <th>F1</th>\n",
       "      <th>AUC</th>\n",
       "      <th>Silhouette Score</th>\n",
       "    </tr>\n",
       "  </thead>\n",
       "  <tbody>\n",
       "    <tr>\n",
       "      <th>GaussianMixture</th>\n",
       "      <td>0.049209</td>\n",
       "      <td>0.080189</td>\n",
       "      <td>0.046832</td>\n",
       "      <td>0.059130</td>\n",
       "      <td>0.050115</td>\n",
       "      <td>0.855256</td>\n",
       "    </tr>\n",
       "    <tr>\n",
       "      <th>KMeans</th>\n",
       "      <td>0.145870</td>\n",
       "      <td>0.187215</td>\n",
       "      <td>0.386792</td>\n",
       "      <td>0.252308</td>\n",
       "      <td>0.194797</td>\n",
       "      <td>0.589474</td>\n",
       "    </tr>\n",
       "    <tr>\n",
       "      <th>OneClassSVM</th>\n",
       "      <td>0.804921</td>\n",
       "      <td>0.851541</td>\n",
       "      <td>0.839779</td>\n",
       "      <td>0.845619</td>\n",
       "      <td>0.791870</td>\n",
       "      <td>0.463554</td>\n",
       "    </tr>\n",
       "  </tbody>\n",
       "</table>\n",
       "</div>"
      ],
      "text/plain": [
       "                 Accuracy  Precision    Recall        F1       AUC  \\\n",
       "GaussianMixture  0.049209   0.080189  0.046832  0.059130  0.050115   \n",
       "KMeans           0.145870   0.187215  0.386792  0.252308  0.194797   \n",
       "OneClassSVM      0.804921   0.851541  0.839779  0.845619  0.791870   \n",
       "\n",
       "                 Silhouette Score  \n",
       "GaussianMixture          0.855256  \n",
       "KMeans                   0.589474  \n",
       "OneClassSVM              0.463554  "
      ]
     },
     "metadata": {},
     "output_type": "display_data"
    }
   ],
   "source": [
    "from sklearn.svm import OneClassSVM\n",
    "from sklearn.inspection import DecisionBoundaryDisplay\n",
    "from sklearn.mixture import GaussianMixture as gaussianMixture\n",
    "\n",
    "\n",
    "target_values = df_fe['diagnosis'].value_counts() \n",
    "target_values = pd.Series(target_values)\n",
    "target_values = pd.DataFrame(target_values)\n",
    "target_values.reset_index(inplace = True)\n",
    "target_values.index = ['Benign', 'Malignant']\n",
    "print('Percentages and counts of the target values:')\n",
    "display(target_values)\n",
    "\n",
    "# ==============================================================================\n",
    "# First need to do a data one-class to use one-class SVM for unsupervised learning\n",
    "one_class_target = y\n",
    "one_class_target = one_class_target.replace({0: 1, 1: -1})\n",
    "# find the proportion of outliers we expect (aka where `diagnosis == -1`) in the data\n",
    "# and use that to set the `nu` hyperparameter\n",
    "outliers = one_class_target[one_class_target == -1]\n",
    "nu = outliers.shape[0] / one_class_target.shape[0]\n",
    "print(f\"nu: {nu}\")\n",
    "\n",
    "#==============================================================================\n",
    "svm = OneClassSVM(nu=nu, kernel='rbf', gamma=0.00005)\n",
    "svm.fit(X)\n",
    "labels = svm.predict(X)\n",
    "print_metrics(svm, labels, one_class_target)\n",
    "\n",
    "#==============================================================================\n",
    "gaussianm = gaussianMixture(n_components=2, random_state=1).fit(X)\n",
    "labels = gaussianm.predict(X)\n",
    "print_metrics(gaussianm, labels, y)\n",
    "\n",
    "display(unsupervised_metrics_df.sort_values(by='Silhouette Score', ascending=False))\n",
    "\n"
   ]
  },
  {
   "cell_type": "markdown",
   "metadata": {},
   "source": [
    "The scores of one-class SVM are better than KMeans clustering , and GaussianMixture model brings ever better scores.\n",
    "This is enough to see there are good chances to develop a high-presicion classification by diagnosis model on this dataset"
   ]
  },
  {
   "cell_type": "markdown",
   "metadata": {},
   "source": [
    "# Hyperparameters"
   ]
  },
  {
   "cell_type": "markdown",
   "metadata": {},
   "source": [
    "## Feature Selection "
   ]
  },
  {
   "cell_type": "markdown",
   "metadata": {},
   "source": [
    "### Univariable Feature Selection\n",
    "\n"
   ]
  },
  {
   "cell_type": "markdown",
   "metadata": {},
   "source": [
    "#### Paired t-test"
   ]
  },
  {
   "cell_type": "code",
   "execution_count": 55,
   "metadata": {},
   "outputs": [
    {
     "name": "stdout",
     "output_type": "stream",
     "text": [
      "Out of all features , for the follow 5 features the difference between the two groups is not statistically significant\n"
     ]
    },
    {
     "data": {
      "text/html": [
       "<div>\n",
       "<style scoped>\n",
       "    .dataframe tbody tr th:only-of-type {\n",
       "        vertical-align: middle;\n",
       "    }\n",
       "\n",
       "    .dataframe tbody tr th {\n",
       "        vertical-align: top;\n",
       "    }\n",
       "\n",
       "    .dataframe thead th {\n",
       "        text-align: right;\n",
       "    }\n",
       "</style>\n",
       "<table border=\"1\" class=\"dataframe\">\n",
       "  <thead>\n",
       "    <tr style=\"text-align: right;\">\n",
       "      <th></th>\n",
       "      <th>T-Statistic</th>\n",
       "      <th>P-Value</th>\n",
       "    </tr>\n",
       "  </thead>\n",
       "  <tbody>\n",
       "    <tr>\n",
       "      <th>fractal_dimension_se</th>\n",
       "      <td>1.862330</td>\n",
       "      <td>0.063074</td>\n",
       "    </tr>\n",
       "    <tr>\n",
       "      <th>smoothness_se</th>\n",
       "      <td>-1.599365</td>\n",
       "      <td>0.110297</td>\n",
       "    </tr>\n",
       "    <tr>\n",
       "      <th>fractal_dimension_mean</th>\n",
       "      <td>-0.305711</td>\n",
       "      <td>0.759937</td>\n",
       "    </tr>\n",
       "    <tr>\n",
       "      <th>texture_se</th>\n",
       "      <td>-0.197724</td>\n",
       "      <td>0.843332</td>\n",
       "    </tr>\n",
       "    <tr>\n",
       "      <th>symmetry_se</th>\n",
       "      <td>-0.155298</td>\n",
       "      <td>0.876642</td>\n",
       "    </tr>\n",
       "  </tbody>\n",
       "</table>\n",
       "</div>"
      ],
      "text/plain": [
       "                        T-Statistic   P-Value\n",
       "fractal_dimension_se       1.862330  0.063074\n",
       "smoothness_se             -1.599365  0.110297\n",
       "fractal_dimension_mean    -0.305711  0.759937\n",
       "texture_se                -0.197724  0.843332\n",
       "symmetry_se               -0.155298  0.876642"
      ]
     },
     "metadata": {},
     "output_type": "display_data"
    },
    {
     "data": {
      "text/plain": [
       "(569, 26)"
      ]
     },
     "metadata": {},
     "output_type": "display_data"
    }
   ],
   "source": [
    "import scipy.stats as stats\n",
    "\n",
    "def t_test_groups(group1, group2, timing= 'before transformation'):\n",
    "    # Perform an independent samples t-test\n",
    "    t_test_results = pd.DataFrame(columns=['T-Statistic', 'P-Value'])\n",
    "    for col in group1: # columns will be the same in both groups; 'diagnosis' column is dropped\n",
    "        t_stat, p_value = stats.ttest_ind(group1[col], group2[col])\n",
    "        t_test_results.loc[col] = [t_stat, p_value]\n",
    "            \n",
    "    len = t_test_results[t_test_results['P-Value']>0.05].shape[0]\n",
    "    print(f'Out of all features , for the follow {len} features the difference between the two groups is not statistically significant')\n",
    "    unsignificant_diff_columns = t_test_results[t_test_results['P-Value']>0.05].index\n",
    "    display(t_test_results[t_test_results['P-Value']>0.05].sort_values(by='P-Value'))\n",
    "    return unsignificant_diff_columns\n",
    "\n",
    "# Perform a t-test after transformation to see if the difference between the two groups (by diagnosis) is statistically significant\n",
    "# If the p-value is greater than 0.05, we can drop the feature\n",
    "malignant = df_fe[df_fe['diagnosis'] == 1].drop('diagnosis', axis=1)\n",
    "benign = df_fe[df_fe['diagnosis'] == 0].drop('diagnosis', axis=1)\n",
    "unsignificant_diff_columns = t_test_groups(malignant, benign, timing= 'after transformation')\n",
    "# Features returned by the t-test as not having a statistically significant difference between the two groups so we can drop it\n",
    "df_fe.drop(unsignificant_diff_columns, axis=1, inplace=True)    \n",
    "display(df_fe.shape)\n",
    "X = df_fe.drop('diagnosis', axis=1)\n",
    "y = df_fe['diagnosis']"
   ]
  },
  {
   "cell_type": "markdown",
   "metadata": {},
   "source": [
    "#### k-best"
   ]
  },
  {
   "cell_type": "markdown",
   "metadata": {},
   "source": [
    "Now lets use the K-best to Select features according to the k highest scores , out of the remaining 26 features.        \n",
    "This is why those will be dropped"
   ]
  },
  {
   "cell_type": "code",
   "execution_count": 56,
   "metadata": {},
   "outputs": [
    {
     "data": {
      "text/plain": [
       "['area_worst',\n",
       " 'area_mean',\n",
       " 'area_se',\n",
       " 'perimeter_worst',\n",
       " 'perimeter_mean',\n",
       " 'radius_worst',\n",
       " 'radius_mean',\n",
       " 'perimeter_se',\n",
       " 'texture_worst',\n",
       " 'texture_mean',\n",
       " 'concavity_worst',\n",
       " 'radius_se',\n",
       " 'concavity_mean',\n",
       " 'compactness_worst',\n",
       " 'concave points_worst']"
      ]
     },
     "metadata": {},
     "output_type": "display_data"
    },
    {
     "data": {
      "text/plain": [
       "['concave points_worst',\n",
       " 'perimeter_worst',\n",
       " 'concave points_mean',\n",
       " 'radius_worst',\n",
       " 'perimeter_mean',\n",
       " 'area_worst',\n",
       " 'radius_mean',\n",
       " 'area_mean',\n",
       " 'concavity_mean',\n",
       " 'concavity_worst',\n",
       " 'compactness_mean',\n",
       " 'compactness_worst',\n",
       " 'radius_se',\n",
       " 'perimeter_se',\n",
       " 'area_se']"
      ]
     },
     "metadata": {},
     "output_type": "display_data"
    },
    {
     "data": {
      "text/plain": [
       "['concave points_worst',\n",
       " 'perimeter_worst',\n",
       " 'concave points_mean',\n",
       " 'radius_worst',\n",
       " 'perimeter_mean',\n",
       " 'area_worst',\n",
       " 'radius_mean',\n",
       " 'area_mean',\n",
       " 'concavity_mean',\n",
       " 'concavity_worst',\n",
       " 'compactness_mean',\n",
       " 'compactness_worst',\n",
       " 'radius_se',\n",
       " 'perimeter_se',\n",
       " 'area_se']"
      ]
     },
     "metadata": {},
     "output_type": "display_data"
    }
   ],
   "source": [
    "from sklearn.datasets import load_digits\n",
    "from sklearn.feature_selection import SelectKBest, chi2 , f_classif , f_regression\n",
    "\n",
    "def univariate_kbest(score_func, num_features):\n",
    "    # Apply SelectKBest class to extract top 10 best features with Chi-Square tests\n",
    "    feature_score  = SelectKBest(score_func, k=10).fit(X, y)\n",
    "    cols = pd.DataFrame(feature_score.scores_ , columns=['Feature_Scores'])\n",
    "    cols['Feature_Names'] = X.columns\n",
    "    df_univatiate = cols.nlargest(num_features,'Feature_Scores')\n",
    "    df_univatiate_columns = df_univatiate.Feature_Names.to_list()\n",
    "    display(df_univatiate_columns)\n",
    "    return df_univatiate_columns\n",
    "\n",
    "\n",
    "n_features = 15\n",
    "# Apply SelectKBest class to extract top 10 best features with Chi-Square tests\n",
    "chi2_list = univariate_kbest(chi2, n_features)\n",
    "# A-Nova\n",
    "anova_list = univariate_kbest(f_classif, n_features)\n",
    "# Linear Regression -  returning F-statistic and p-values\n",
    "lr_list = univariate_kbest(f_regression, n_features)\n",
    "\n",
    "\n"
   ]
  },
  {
   "cell_type": "markdown",
   "metadata": {},
   "source": [
    "### Multivariable Analysis"
   ]
  },
  {
   "cell_type": "code",
   "execution_count": 57,
   "metadata": {},
   "outputs": [],
   "source": [
    "from sklearn.pipeline import Pipeline\n",
    "from sklearn.ensemble import GradientBoostingClassifier, RandomForestClassifier ,AdaBoostRegressor\n",
    "from sklearn.linear_model import Lasso , Ridge , RidgeClassifierCV , RidgeClassifier , LogisticRegression , LinearRegression\n",
    "from sklearn.feature_selection import SelectFromModel\n",
    "from sklearn.svm import LinearSVC\n"
   ]
  },
  {
   "cell_type": "code",
   "execution_count": 58,
   "metadata": {},
   "outputs": [],
   "source": [
    "# Fit models and determine if a feature is selected (1) or not (0)\n",
    "lasso = Lasso(alpha=0.01).fit(X, y)\n",
    "lasso_selected = (np.abs(lasso.coef_) > 0).astype(int)\n",
    "\n",
    "ridge = Ridge(alpha=0.5).fit(X, y)\n",
    "ridge_selected = (np.abs(ridge.coef_) > 0).astype(int)\n",
    "\n",
    "svm = LinearSVC(C=0.01, penalty=\"l1\", dual=False).fit(X, y)\n",
    "svm_selected = (np.abs(svm.coef_[0]) > 0).astype(int)\n",
    "\n",
    "lreg = LogisticRegression(max_iter=1000, C=1, penalty='l1', solver='liblinear').fit(X, y)\n",
    "lreg_selected = (np.abs(lreg.coef_[0]) > 0).astype(int)\n",
    "\n",
    "linearReg = LinearRegression().fit(X, y)\n",
    "linearReg_selected = (np.abs(linearReg.coef_) > 0).astype(int)\n",
    "\n",
    "gb = GradientBoostingClassifier().fit(X, y)\n",
    "gb_selected = (gb.feature_importances_ > 0).astype(int)\n",
    "\n",
    "adb = AdaBoostRegressor().fit(X, y)\n",
    "adb_selected = (adb.feature_importances_ > 0).astype(int)\n",
    "\n",
    "rf = RandomForestClassifier().fit(X, y)\n",
    "rf_selected = (rf.feature_importances_ > 0).astype(int)\n",
    "\n",
    "# Create a DataFrame to store results\n",
    "selection_df = pd.DataFrame({\n",
    "    'Feature': X.columns,\n",
    "    'Lasso': lasso_selected,\n",
    "    'Ridge': ridge_selected,\n",
    "    'SVM': svm_selected,\n",
    "    'LinearReg': linearReg_selected,\n",
    "    'GradientBoost': gb_selected,\n",
    "    'AdaBoost': adb_selected,\n",
    "    'RandomForest': rf_selected,\n",
    "    'LogisticRegression': lreg_selected\n",
    "})\n",
    "\n",
    "# Sum the number of selections for each feature\n",
    "selection_df['Sum'] = selection_df[['Lasso', 'Ridge', 'SVM', 'LinearReg', 'GradientBoost',  'AdaBoost' , 'RandomForest','LogisticRegression']].sum(axis=1)\n"
   ]
  },
  {
   "cell_type": "markdown",
   "metadata": {},
   "source": [
    "As see above , most of the models cannot properly decide on feature importance , maybe because of a higth multicollinearity in dataset  (high corellations between different features) ."
   ]
  },
  {
   "cell_type": "code",
   "execution_count": 59,
   "metadata": {},
   "outputs": [
    {
     "data": {
      "text/html": [
       "<div>\n",
       "<style scoped>\n",
       "    .dataframe tbody tr th:only-of-type {\n",
       "        vertical-align: middle;\n",
       "    }\n",
       "\n",
       "    .dataframe tbody tr th {\n",
       "        vertical-align: top;\n",
       "    }\n",
       "\n",
       "    .dataframe thead th {\n",
       "        text-align: right;\n",
       "    }\n",
       "</style>\n",
       "<table border=\"1\" class=\"dataframe\">\n",
       "  <thead>\n",
       "    <tr style=\"text-align: right;\">\n",
       "      <th></th>\n",
       "      <th>Feature</th>\n",
       "      <th>Lasso</th>\n",
       "      <th>Ridge</th>\n",
       "      <th>SVM</th>\n",
       "      <th>LinearReg</th>\n",
       "      <th>GradientBoost</th>\n",
       "      <th>AdaBoost</th>\n",
       "      <th>RandomForest</th>\n",
       "      <th>LogisticRegression</th>\n",
       "      <th>Sum</th>\n",
       "    </tr>\n",
       "  </thead>\n",
       "  <tbody>\n",
       "    <tr>\n",
       "      <th>0</th>\n",
       "      <td>radius_mean</td>\n",
       "      <td>0</td>\n",
       "      <td>1</td>\n",
       "      <td>0</td>\n",
       "      <td>1</td>\n",
       "      <td>1</td>\n",
       "      <td>1</td>\n",
       "      <td>1</td>\n",
       "      <td>1</td>\n",
       "      <td>6</td>\n",
       "    </tr>\n",
       "    <tr>\n",
       "      <th>1</th>\n",
       "      <td>texture_mean</td>\n",
       "      <td>1</td>\n",
       "      <td>1</td>\n",
       "      <td>0</td>\n",
       "      <td>1</td>\n",
       "      <td>1</td>\n",
       "      <td>1</td>\n",
       "      <td>1</td>\n",
       "      <td>0</td>\n",
       "      <td>6</td>\n",
       "    </tr>\n",
       "    <tr>\n",
       "      <th>2</th>\n",
       "      <td>perimeter_mean</td>\n",
       "      <td>0</td>\n",
       "      <td>1</td>\n",
       "      <td>1</td>\n",
       "      <td>1</td>\n",
       "      <td>1</td>\n",
       "      <td>1</td>\n",
       "      <td>1</td>\n",
       "      <td>1</td>\n",
       "      <td>7</td>\n",
       "    </tr>\n",
       "    <tr>\n",
       "      <th>3</th>\n",
       "      <td>area_mean</td>\n",
       "      <td>1</td>\n",
       "      <td>1</td>\n",
       "      <td>1</td>\n",
       "      <td>1</td>\n",
       "      <td>1</td>\n",
       "      <td>1</td>\n",
       "      <td>1</td>\n",
       "      <td>1</td>\n",
       "      <td>8</td>\n",
       "    </tr>\n",
       "    <tr>\n",
       "      <th>4</th>\n",
       "      <td>smoothness_mean</td>\n",
       "      <td>0</td>\n",
       "      <td>1</td>\n",
       "      <td>0</td>\n",
       "      <td>1</td>\n",
       "      <td>1</td>\n",
       "      <td>1</td>\n",
       "      <td>1</td>\n",
       "      <td>0</td>\n",
       "      <td>5</td>\n",
       "    </tr>\n",
       "    <tr>\n",
       "      <th>5</th>\n",
       "      <td>compactness_mean</td>\n",
       "      <td>0</td>\n",
       "      <td>1</td>\n",
       "      <td>0</td>\n",
       "      <td>1</td>\n",
       "      <td>1</td>\n",
       "      <td>1</td>\n",
       "      <td>1</td>\n",
       "      <td>0</td>\n",
       "      <td>5</td>\n",
       "    </tr>\n",
       "    <tr>\n",
       "      <th>6</th>\n",
       "      <td>concavity_mean</td>\n",
       "      <td>0</td>\n",
       "      <td>1</td>\n",
       "      <td>0</td>\n",
       "      <td>1</td>\n",
       "      <td>1</td>\n",
       "      <td>1</td>\n",
       "      <td>1</td>\n",
       "      <td>0</td>\n",
       "      <td>5</td>\n",
       "    </tr>\n",
       "    <tr>\n",
       "      <th>7</th>\n",
       "      <td>concave points_mean</td>\n",
       "      <td>0</td>\n",
       "      <td>1</td>\n",
       "      <td>0</td>\n",
       "      <td>1</td>\n",
       "      <td>1</td>\n",
       "      <td>1</td>\n",
       "      <td>1</td>\n",
       "      <td>0</td>\n",
       "      <td>5</td>\n",
       "    </tr>\n",
       "    <tr>\n",
       "      <th>8</th>\n",
       "      <td>symmetry_mean</td>\n",
       "      <td>0</td>\n",
       "      <td>1</td>\n",
       "      <td>0</td>\n",
       "      <td>1</td>\n",
       "      <td>1</td>\n",
       "      <td>1</td>\n",
       "      <td>1</td>\n",
       "      <td>0</td>\n",
       "      <td>5</td>\n",
       "    </tr>\n",
       "    <tr>\n",
       "      <th>9</th>\n",
       "      <td>radius_se</td>\n",
       "      <td>0</td>\n",
       "      <td>1</td>\n",
       "      <td>0</td>\n",
       "      <td>1</td>\n",
       "      <td>1</td>\n",
       "      <td>1</td>\n",
       "      <td>1</td>\n",
       "      <td>0</td>\n",
       "      <td>5</td>\n",
       "    </tr>\n",
       "    <tr>\n",
       "      <th>10</th>\n",
       "      <td>perimeter_se</td>\n",
       "      <td>0</td>\n",
       "      <td>1</td>\n",
       "      <td>0</td>\n",
       "      <td>1</td>\n",
       "      <td>1</td>\n",
       "      <td>1</td>\n",
       "      <td>1</td>\n",
       "      <td>0</td>\n",
       "      <td>5</td>\n",
       "    </tr>\n",
       "    <tr>\n",
       "      <th>11</th>\n",
       "      <td>area_se</td>\n",
       "      <td>1</td>\n",
       "      <td>1</td>\n",
       "      <td>1</td>\n",
       "      <td>1</td>\n",
       "      <td>1</td>\n",
       "      <td>1</td>\n",
       "      <td>1</td>\n",
       "      <td>1</td>\n",
       "      <td>8</td>\n",
       "    </tr>\n",
       "    <tr>\n",
       "      <th>12</th>\n",
       "      <td>compactness_se</td>\n",
       "      <td>0</td>\n",
       "      <td>1</td>\n",
       "      <td>0</td>\n",
       "      <td>1</td>\n",
       "      <td>1</td>\n",
       "      <td>1</td>\n",
       "      <td>1</td>\n",
       "      <td>0</td>\n",
       "      <td>5</td>\n",
       "    </tr>\n",
       "    <tr>\n",
       "      <th>13</th>\n",
       "      <td>concavity_se</td>\n",
       "      <td>0</td>\n",
       "      <td>1</td>\n",
       "      <td>0</td>\n",
       "      <td>1</td>\n",
       "      <td>1</td>\n",
       "      <td>1</td>\n",
       "      <td>1</td>\n",
       "      <td>0</td>\n",
       "      <td>5</td>\n",
       "    </tr>\n",
       "    <tr>\n",
       "      <th>14</th>\n",
       "      <td>concave points_se</td>\n",
       "      <td>0</td>\n",
       "      <td>1</td>\n",
       "      <td>0</td>\n",
       "      <td>1</td>\n",
       "      <td>1</td>\n",
       "      <td>1</td>\n",
       "      <td>1</td>\n",
       "      <td>0</td>\n",
       "      <td>5</td>\n",
       "    </tr>\n",
       "    <tr>\n",
       "      <th>15</th>\n",
       "      <td>radius_worst</td>\n",
       "      <td>1</td>\n",
       "      <td>1</td>\n",
       "      <td>0</td>\n",
       "      <td>1</td>\n",
       "      <td>1</td>\n",
       "      <td>1</td>\n",
       "      <td>1</td>\n",
       "      <td>0</td>\n",
       "      <td>6</td>\n",
       "    </tr>\n",
       "    <tr>\n",
       "      <th>16</th>\n",
       "      <td>texture_worst</td>\n",
       "      <td>1</td>\n",
       "      <td>1</td>\n",
       "      <td>1</td>\n",
       "      <td>1</td>\n",
       "      <td>1</td>\n",
       "      <td>1</td>\n",
       "      <td>1</td>\n",
       "      <td>1</td>\n",
       "      <td>8</td>\n",
       "    </tr>\n",
       "    <tr>\n",
       "      <th>17</th>\n",
       "      <td>perimeter_worst</td>\n",
       "      <td>1</td>\n",
       "      <td>1</td>\n",
       "      <td>0</td>\n",
       "      <td>1</td>\n",
       "      <td>1</td>\n",
       "      <td>1</td>\n",
       "      <td>1</td>\n",
       "      <td>1</td>\n",
       "      <td>7</td>\n",
       "    </tr>\n",
       "    <tr>\n",
       "      <th>18</th>\n",
       "      <td>area_worst</td>\n",
       "      <td>1</td>\n",
       "      <td>1</td>\n",
       "      <td>1</td>\n",
       "      <td>1</td>\n",
       "      <td>1</td>\n",
       "      <td>1</td>\n",
       "      <td>1</td>\n",
       "      <td>1</td>\n",
       "      <td>8</td>\n",
       "    </tr>\n",
       "    <tr>\n",
       "      <th>19</th>\n",
       "      <td>smoothness_worst</td>\n",
       "      <td>0</td>\n",
       "      <td>1</td>\n",
       "      <td>0</td>\n",
       "      <td>1</td>\n",
       "      <td>1</td>\n",
       "      <td>1</td>\n",
       "      <td>1</td>\n",
       "      <td>0</td>\n",
       "      <td>5</td>\n",
       "    </tr>\n",
       "    <tr>\n",
       "      <th>20</th>\n",
       "      <td>compactness_worst</td>\n",
       "      <td>0</td>\n",
       "      <td>1</td>\n",
       "      <td>0</td>\n",
       "      <td>1</td>\n",
       "      <td>1</td>\n",
       "      <td>1</td>\n",
       "      <td>1</td>\n",
       "      <td>0</td>\n",
       "      <td>5</td>\n",
       "    </tr>\n",
       "    <tr>\n",
       "      <th>21</th>\n",
       "      <td>concavity_worst</td>\n",
       "      <td>1</td>\n",
       "      <td>1</td>\n",
       "      <td>0</td>\n",
       "      <td>1</td>\n",
       "      <td>1</td>\n",
       "      <td>1</td>\n",
       "      <td>1</td>\n",
       "      <td>1</td>\n",
       "      <td>7</td>\n",
       "    </tr>\n",
       "    <tr>\n",
       "      <th>22</th>\n",
       "      <td>concave points_worst</td>\n",
       "      <td>0</td>\n",
       "      <td>1</td>\n",
       "      <td>0</td>\n",
       "      <td>1</td>\n",
       "      <td>1</td>\n",
       "      <td>1</td>\n",
       "      <td>1</td>\n",
       "      <td>0</td>\n",
       "      <td>5</td>\n",
       "    </tr>\n",
       "    <tr>\n",
       "      <th>23</th>\n",
       "      <td>symmetry_worst</td>\n",
       "      <td>0</td>\n",
       "      <td>1</td>\n",
       "      <td>0</td>\n",
       "      <td>1</td>\n",
       "      <td>1</td>\n",
       "      <td>1</td>\n",
       "      <td>1</td>\n",
       "      <td>0</td>\n",
       "      <td>5</td>\n",
       "    </tr>\n",
       "    <tr>\n",
       "      <th>24</th>\n",
       "      <td>fractal_dimension_worst</td>\n",
       "      <td>0</td>\n",
       "      <td>1</td>\n",
       "      <td>0</td>\n",
       "      <td>1</td>\n",
       "      <td>1</td>\n",
       "      <td>1</td>\n",
       "      <td>1</td>\n",
       "      <td>0</td>\n",
       "      <td>5</td>\n",
       "    </tr>\n",
       "  </tbody>\n",
       "</table>\n",
       "</div>"
      ],
      "text/plain": [
       "                    Feature  Lasso  Ridge  SVM  LinearReg  GradientBoost  \\\n",
       "0               radius_mean      0      1    0          1              1   \n",
       "1              texture_mean      1      1    0          1              1   \n",
       "2            perimeter_mean      0      1    1          1              1   \n",
       "3                 area_mean      1      1    1          1              1   \n",
       "4           smoothness_mean      0      1    0          1              1   \n",
       "5          compactness_mean      0      1    0          1              1   \n",
       "6            concavity_mean      0      1    0          1              1   \n",
       "7       concave points_mean      0      1    0          1              1   \n",
       "8             symmetry_mean      0      1    0          1              1   \n",
       "9                 radius_se      0      1    0          1              1   \n",
       "10             perimeter_se      0      1    0          1              1   \n",
       "11                  area_se      1      1    1          1              1   \n",
       "12           compactness_se      0      1    0          1              1   \n",
       "13             concavity_se      0      1    0          1              1   \n",
       "14        concave points_se      0      1    0          1              1   \n",
       "15             radius_worst      1      1    0          1              1   \n",
       "16            texture_worst      1      1    1          1              1   \n",
       "17          perimeter_worst      1      1    0          1              1   \n",
       "18               area_worst      1      1    1          1              1   \n",
       "19         smoothness_worst      0      1    0          1              1   \n",
       "20        compactness_worst      0      1    0          1              1   \n",
       "21          concavity_worst      1      1    0          1              1   \n",
       "22     concave points_worst      0      1    0          1              1   \n",
       "23           symmetry_worst      0      1    0          1              1   \n",
       "24  fractal_dimension_worst      0      1    0          1              1   \n",
       "\n",
       "    AdaBoost  RandomForest  LogisticRegression  Sum  \n",
       "0          1             1                   1    6  \n",
       "1          1             1                   0    6  \n",
       "2          1             1                   1    7  \n",
       "3          1             1                   1    8  \n",
       "4          1             1                   0    5  \n",
       "5          1             1                   0    5  \n",
       "6          1             1                   0    5  \n",
       "7          1             1                   0    5  \n",
       "8          1             1                   0    5  \n",
       "9          1             1                   0    5  \n",
       "10         1             1                   0    5  \n",
       "11         1             1                   1    8  \n",
       "12         1             1                   0    5  \n",
       "13         1             1                   0    5  \n",
       "14         1             1                   0    5  \n",
       "15         1             1                   0    6  \n",
       "16         1             1                   1    8  \n",
       "17         1             1                   1    7  \n",
       "18         1             1                   1    8  \n",
       "19         1             1                   0    5  \n",
       "20         1             1                   0    5  \n",
       "21         1             1                   1    7  \n",
       "22         1             1                   0    5  \n",
       "23         1             1                   0    5  \n",
       "24         1             1                   0    5  "
      ]
     },
     "metadata": {},
     "output_type": "display_data"
    }
   ],
   "source": [
    "\n",
    "# Output the results\n",
    "display(selection_df)"
   ]
  },
  {
   "cell_type": "code",
   "execution_count": 60,
   "metadata": {},
   "outputs": [
    {
     "data": {
      "text/plain": [
       "'Most important features of the dataset : 26'"
      ]
     },
     "metadata": {},
     "output_type": "display_data"
    },
    {
     "data": {
      "text/plain": [
       "\"['radius_mean', 'texture_mean', 'perimeter_mean', 'area_mean', 'smoothness_mean', 'compactness_mean', 'concavity_mean', 'concave points_mean', 'symmetry_mean', 'radius_se', 'perimeter_se', 'area_se', 'compactness_se', 'concavity_se', 'concave points_se', 'radius_worst', 'texture_worst', 'perimeter_worst', 'area_worst', 'smoothness_worst', 'compactness_worst', 'concavity_worst', 'concave points_worst', 'symmetry_worst', 'fractal_dimension_worst', 'diagnosis']\""
      ]
     },
     "metadata": {},
     "output_type": "display_data"
    },
    {
     "data": {
      "text/html": [
       "<div>\n",
       "<style scoped>\n",
       "    .dataframe tbody tr th:only-of-type {\n",
       "        vertical-align: middle;\n",
       "    }\n",
       "\n",
       "    .dataframe tbody tr th {\n",
       "        vertical-align: top;\n",
       "    }\n",
       "\n",
       "    .dataframe thead th {\n",
       "        text-align: right;\n",
       "    }\n",
       "</style>\n",
       "<table border=\"1\" class=\"dataframe\">\n",
       "  <thead>\n",
       "    <tr style=\"text-align: right;\">\n",
       "      <th></th>\n",
       "      <th>radius_mean</th>\n",
       "      <th>texture_mean</th>\n",
       "      <th>perimeter_mean</th>\n",
       "      <th>area_mean</th>\n",
       "      <th>smoothness_mean</th>\n",
       "      <th>compactness_mean</th>\n",
       "      <th>concavity_mean</th>\n",
       "      <th>concave points_mean</th>\n",
       "      <th>symmetry_mean</th>\n",
       "      <th>radius_se</th>\n",
       "      <th>...</th>\n",
       "      <th>texture_worst</th>\n",
       "      <th>perimeter_worst</th>\n",
       "      <th>area_worst</th>\n",
       "      <th>smoothness_worst</th>\n",
       "      <th>compactness_worst</th>\n",
       "      <th>concavity_worst</th>\n",
       "      <th>concave points_worst</th>\n",
       "      <th>symmetry_worst</th>\n",
       "      <th>fractal_dimension_worst</th>\n",
       "      <th>diagnosis</th>\n",
       "    </tr>\n",
       "  </thead>\n",
       "  <tbody>\n",
       "    <tr>\n",
       "      <th>0</th>\n",
       "      <td>17.99</td>\n",
       "      <td>10.38</td>\n",
       "      <td>122.8</td>\n",
       "      <td>1001.0</td>\n",
       "      <td>0.11840</td>\n",
       "      <td>0.27760</td>\n",
       "      <td>0.3001</td>\n",
       "      <td>0.14710</td>\n",
       "      <td>0.2419</td>\n",
       "      <td>1.0950</td>\n",
       "      <td>...</td>\n",
       "      <td>17.33</td>\n",
       "      <td>184.6</td>\n",
       "      <td>2019.0</td>\n",
       "      <td>0.1622</td>\n",
       "      <td>0.6656</td>\n",
       "      <td>0.7119</td>\n",
       "      <td>0.2654</td>\n",
       "      <td>0.4601</td>\n",
       "      <td>0.11890</td>\n",
       "      <td>1</td>\n",
       "    </tr>\n",
       "    <tr>\n",
       "      <th>1</th>\n",
       "      <td>20.57</td>\n",
       "      <td>17.77</td>\n",
       "      <td>132.9</td>\n",
       "      <td>1326.0</td>\n",
       "      <td>0.08474</td>\n",
       "      <td>0.07864</td>\n",
       "      <td>0.0869</td>\n",
       "      <td>0.07017</td>\n",
       "      <td>0.1812</td>\n",
       "      <td>0.5435</td>\n",
       "      <td>...</td>\n",
       "      <td>23.41</td>\n",
       "      <td>158.8</td>\n",
       "      <td>1956.0</td>\n",
       "      <td>0.1238</td>\n",
       "      <td>0.1866</td>\n",
       "      <td>0.2416</td>\n",
       "      <td>0.1860</td>\n",
       "      <td>0.2750</td>\n",
       "      <td>0.08902</td>\n",
       "      <td>1</td>\n",
       "    </tr>\n",
       "  </tbody>\n",
       "</table>\n",
       "<p>2 rows × 26 columns</p>\n",
       "</div>"
      ],
      "text/plain": [
       "   radius_mean  texture_mean  perimeter_mean  area_mean  smoothness_mean  \\\n",
       "0        17.99         10.38           122.8     1001.0          0.11840   \n",
       "1        20.57         17.77           132.9     1326.0          0.08474   \n",
       "\n",
       "   compactness_mean  concavity_mean  concave points_mean  symmetry_mean  \\\n",
       "0           0.27760          0.3001              0.14710         0.2419   \n",
       "1           0.07864          0.0869              0.07017         0.1812   \n",
       "\n",
       "   radius_se  ...  texture_worst  perimeter_worst  area_worst  \\\n",
       "0     1.0950  ...          17.33            184.6      2019.0   \n",
       "1     0.5435  ...          23.41            158.8      1956.0   \n",
       "\n",
       "   smoothness_worst  compactness_worst  concavity_worst  concave points_worst  \\\n",
       "0            0.1622             0.6656           0.7119                0.2654   \n",
       "1            0.1238             0.1866           0.2416                0.1860   \n",
       "\n",
       "   symmetry_worst  fractal_dimension_worst  diagnosis  \n",
       "0          0.4601                  0.11890          1  \n",
       "1          0.2750                  0.08902          1  \n",
       "\n",
       "[2 rows x 26 columns]"
      ]
     },
     "metadata": {},
     "output_type": "display_data"
    },
    {
     "data": {
      "text/plain": [
       "(569, 26)"
      ]
     },
     "metadata": {},
     "output_type": "display_data"
    }
   ],
   "source": [
    "#Selecting variables with a sum of selections >= 6\n",
    "final_var = selection_df[selection_df['Sum'] >= 5  ]['Feature'].tolist()\n",
    "df_model = df_fe[final_var].copy()\n",
    "df_model['diagnosis'] = df_fe['diagnosis'].copy()\n",
    "\n",
    "columns_list = df_model.columns.tolist()\n",
    "display(f\"Most important features of the dataset : {len(columns_list)}\")\n",
    "display(f\"{columns_list}\")\n",
    "display(df_model.head(2))\n",
    "display(df_model.shape)\n",
    "\n",
    "# df_model.correlation = df_model.corr()\n",
    "# heatmap = sns.heatmap(df_model.corr(), annot=True, cmap='summer', fmt=\".2f\")  \n",
    "# plt.title('Correlation Heatmap')\n",
    "# plt.show()\n",
    "# #display(df_model.correlation)\n"
   ]
  },
  {
   "cell_type": "code",
   "execution_count": null,
   "metadata": {},
   "outputs": [],
   "source": []
  },
  {
   "cell_type": "markdown",
   "metadata": {},
   "source": [
    "### Features selection"
   ]
  },
  {
   "cell_type": "code",
   "execution_count": 61,
   "metadata": {},
   "outputs": [
    {
     "data": {
      "text/plain": [
       "'Common columns between univariate chi2_univatiate_columns_set and model-based feature selection:'"
      ]
     },
     "metadata": {},
     "output_type": "display_data"
    },
    {
     "data": {
      "text/plain": [
       "\"Features : {'radius_mean', 'radius_se', 'radius_worst', 'texture_worst', 'texture_mean', 'concavity_worst', 'area_mean', 'perimeter_mean', 'area_se', 'area_worst', 'concavity_mean', 'compactness_worst', 'perimeter_se', 'perimeter_worst', 'concave points_worst'} \""
      ]
     },
     "metadata": {},
     "output_type": "display_data"
    },
    {
     "data": {
      "text/plain": [
       "'Length : 15'"
      ]
     },
     "metadata": {},
     "output_type": "display_data"
    },
    {
     "data": {
      "text/plain": [
       "'Common columns between univariate anova_univatiate_columns_set and model-based feature selection:'"
      ]
     },
     "metadata": {},
     "output_type": "display_data"
    },
    {
     "data": {
      "text/plain": [
       "\"Features : {'compactness_mean', 'radius_mean', 'radius_se', 'radius_worst', 'concavity_worst', 'area_mean', 'perimeter_mean', 'area_se', 'area_worst', 'concavity_mean', 'compactness_worst', 'concave points_mean', 'perimeter_se', 'perimeter_worst', 'concave points_worst'} \""
      ]
     },
     "metadata": {},
     "output_type": "display_data"
    },
    {
     "data": {
      "text/plain": [
       "'Length : 15'"
      ]
     },
     "metadata": {},
     "output_type": "display_data"
    },
    {
     "data": {
      "text/plain": [
       "'Common columns between univariate lr_univatiate_columns_set and model-based feature selection:'"
      ]
     },
     "metadata": {},
     "output_type": "display_data"
    },
    {
     "data": {
      "text/plain": [
       "\"Features : {'compactness_mean', 'radius_mean', 'radius_se', 'radius_worst', 'concavity_worst', 'area_mean', 'perimeter_mean', 'area_se', 'area_worst', 'concavity_mean', 'compactness_worst', 'concave points_mean', 'perimeter_se', 'perimeter_worst', 'concave points_worst'} \""
      ]
     },
     "metadata": {},
     "output_type": "display_data"
    },
    {
     "data": {
      "text/plain": [
       "'Length : 15'"
      ]
     },
     "metadata": {},
     "output_type": "display_data"
    },
    {
     "data": {
      "text/plain": [
       "{'area_mean',\n",
       " 'area_se',\n",
       " 'area_worst',\n",
       " 'compactness_mean',\n",
       " 'compactness_se',\n",
       " 'compactness_worst',\n",
       " 'concave points_mean',\n",
       " 'concave points_se',\n",
       " 'concave points_worst',\n",
       " 'concavity_mean',\n",
       " 'concavity_se',\n",
       " 'concavity_worst',\n",
       " 'diagnosis',\n",
       " 'fractal_dimension_worst',\n",
       " 'perimeter_mean',\n",
       " 'perimeter_se',\n",
       " 'perimeter_worst',\n",
       " 'radius_mean',\n",
       " 'radius_se',\n",
       " 'radius_worst',\n",
       " 'smoothness_mean',\n",
       " 'smoothness_worst',\n",
       " 'symmetry_mean',\n",
       " 'symmetry_worst',\n",
       " 'texture_mean',\n",
       " 'texture_worst'}"
      ]
     },
     "metadata": {},
     "output_type": "display_data"
    },
    {
     "data": {
      "text/plain": [
       "26"
      ]
     },
     "metadata": {},
     "output_type": "display_data"
    },
    {
     "data": {
      "text/plain": [
       "'multivatiate_columns_set:'"
      ]
     },
     "metadata": {},
     "output_type": "display_data"
    },
    {
     "data": {
      "text/plain": [
       "\"Features : {'radius_worst', 'texture_mean', 'compactness_se', 'concavity_se', 'area_se', 'concave points_worst', 'symmetry_mean', 'radius_mean', 'symmetry_worst', 'texture_worst', 'compactness_worst', 'smoothness_mean', 'concave points_mean', 'radius_se', 'diagnosis', 'area_mean', 'smoothness_worst', 'perimeter_mean', 'concave points_se', 'concavity_mean', 'fractal_dimension_worst', 'compactness_mean', 'concavity_worst', 'area_worst', 'perimeter_se', 'perimeter_worst'} \""
      ]
     },
     "metadata": {},
     "output_type": "display_data"
    },
    {
     "data": {
      "text/plain": [
       "'Length : 26'"
      ]
     },
     "metadata": {},
     "output_type": "display_data"
    },
    {
     "data": {
      "text/plain": [
       "\"List1 : ['radius_mean', 'radius_se', 'radius_worst', 'texture_worst', 'texture_mean', 'concavity_worst', 'area_mean', 'perimeter_mean', 'area_se', 'area_worst', 'concavity_mean', 'compactness_worst', 'perimeter_se', 'perimeter_worst', 'concave points_worst'] len1 15\""
      ]
     },
     "metadata": {},
     "output_type": "display_data"
    },
    {
     "data": {
      "text/html": [
       "<div>\n",
       "<style scoped>\n",
       "    .dataframe tbody tr th:only-of-type {\n",
       "        vertical-align: middle;\n",
       "    }\n",
       "\n",
       "    .dataframe tbody tr th {\n",
       "        vertical-align: top;\n",
       "    }\n",
       "\n",
       "    .dataframe thead th {\n",
       "        text-align: right;\n",
       "    }\n",
       "</style>\n",
       "<table border=\"1\" class=\"dataframe\">\n",
       "  <thead>\n",
       "    <tr style=\"text-align: right;\">\n",
       "      <th></th>\n",
       "      <th>radius_mean</th>\n",
       "      <th>radius_se</th>\n",
       "      <th>radius_worst</th>\n",
       "      <th>texture_worst</th>\n",
       "      <th>texture_mean</th>\n",
       "      <th>concavity_worst</th>\n",
       "      <th>area_mean</th>\n",
       "      <th>perimeter_mean</th>\n",
       "      <th>area_se</th>\n",
       "      <th>area_worst</th>\n",
       "      <th>concavity_mean</th>\n",
       "      <th>compactness_worst</th>\n",
       "      <th>perimeter_se</th>\n",
       "      <th>perimeter_worst</th>\n",
       "      <th>concave points_worst</th>\n",
       "    </tr>\n",
       "  </thead>\n",
       "  <tbody>\n",
       "    <tr>\n",
       "      <th>0</th>\n",
       "      <td>17.99</td>\n",
       "      <td>1.0950</td>\n",
       "      <td>25.38</td>\n",
       "      <td>17.33</td>\n",
       "      <td>10.38</td>\n",
       "      <td>0.7119</td>\n",
       "      <td>1001.0</td>\n",
       "      <td>122.8</td>\n",
       "      <td>153.40</td>\n",
       "      <td>2019.0</td>\n",
       "      <td>0.3001</td>\n",
       "      <td>0.6656</td>\n",
       "      <td>8.589</td>\n",
       "      <td>184.6</td>\n",
       "      <td>0.2654</td>\n",
       "    </tr>\n",
       "    <tr>\n",
       "      <th>1</th>\n",
       "      <td>20.57</td>\n",
       "      <td>0.5435</td>\n",
       "      <td>24.99</td>\n",
       "      <td>23.41</td>\n",
       "      <td>17.77</td>\n",
       "      <td>0.2416</td>\n",
       "      <td>1326.0</td>\n",
       "      <td>132.9</td>\n",
       "      <td>74.08</td>\n",
       "      <td>1956.0</td>\n",
       "      <td>0.0869</td>\n",
       "      <td>0.1866</td>\n",
       "      <td>3.398</td>\n",
       "      <td>158.8</td>\n",
       "      <td>0.1860</td>\n",
       "    </tr>\n",
       "  </tbody>\n",
       "</table>\n",
       "</div>"
      ],
      "text/plain": [
       "   radius_mean  radius_se  radius_worst  texture_worst  texture_mean  \\\n",
       "0        17.99     1.0950         25.38          17.33         10.38   \n",
       "1        20.57     0.5435         24.99          23.41         17.77   \n",
       "\n",
       "   concavity_worst  area_mean  perimeter_mean  area_se  area_worst  \\\n",
       "0           0.7119     1001.0           122.8   153.40      2019.0   \n",
       "1           0.2416     1326.0           132.9    74.08      1956.0   \n",
       "\n",
       "   concavity_mean  compactness_worst  perimeter_se  perimeter_worst  \\\n",
       "0          0.3001             0.6656         8.589            184.6   \n",
       "1          0.0869             0.1866         3.398            158.8   \n",
       "\n",
       "   concave points_worst  \n",
       "0                0.2654  \n",
       "1                0.1860  "
      ]
     },
     "metadata": {},
     "output_type": "display_data"
    },
    {
     "data": {
      "text/plain": [
       "0    1\n",
       "1    1\n",
       "Name: diagnosis, dtype: int64"
      ]
     },
     "metadata": {},
     "output_type": "display_data"
    },
    {
     "data": {
      "text/plain": [
       "(569, 15)"
      ]
     },
     "metadata": {},
     "output_type": "display_data"
    }
   ],
   "source": [
    "# Compare results from univariate and model-based feature selection\n",
    "chi2_univatiate_columns_set = set(chi2_list)\n",
    "anova_univatiate_columns_set = set(anova_list)\n",
    "lr_univatiate_columns_set = set(lr_list)\n",
    "multivatiate_columns_set = set(df_model.columns.tolist())\n",
    "\n",
    "def interception_set(set1, set2 , name1, name2):\n",
    "    interception_set = set1.intersection(set2)\n",
    "    display(f\"Common columns between univariate {name1} and model-based feature selection:\")\n",
    "    display(f\"Features : {interception_set} \")\n",
    "    display(f\"Length : {interception_set.__len__()}\")\n",
    "    return interception_set , interception_set.__len__()\n",
    "\n",
    "\n",
    "dict_choosen_columns = {}\n",
    "\n",
    "list1, len1 = interception_set(chi2_univatiate_columns_set, multivatiate_columns_set, name1='chi2_univatiate_columns_set', name2='multivatiate_columns_set')\n",
    "list2, len2 = interception_set(anova_univatiate_columns_set, multivatiate_columns_set, name1='anova_univatiate_columns_set', name2='multivatiate_columns_set')\n",
    "list3, len3 = interception_set(lr_univatiate_columns_set, multivatiate_columns_set, name1='lr_univatiate_columns_set', name2='multivatiate_columns_set')\n",
    "display(multivatiate_columns_set)\n",
    "display(len(multivatiate_columns_set))\n",
    "display(f\"multivatiate_columns_set:\")\n",
    "display(f\"Features : {multivatiate_columns_set} \")\n",
    "display(f\"Length : {multivatiate_columns_set.__len__()}\")\n",
    "\n",
    "\n",
    "\n",
    "list1 = list(list1)\n",
    "display(f\"List1 : {list1} len1 {len1}\")\n",
    "\n",
    "X = df_fe[list1]\n",
    "y = df_fe['diagnosis']\n",
    "display(X.head(2))\n",
    "display(y.head(2))\n",
    "display(X.shape)\n",
    "# We'll choose the features that are common to all three sets - chi2, anova, lr  and multivariate - and this is most close \n",
    "# to the ch2 list with 15 features\n"
   ]
  },
  {
   "cell_type": "markdown",
   "metadata": {},
   "source": [
    "### Dimensionality reduction with PCA - please ignore this\n",
    "According to the correlations matrix , the problem of multicollinearity is still here , as out of 15 selected features (each got at least 5 common votes as important one) - there are still many features  with high correlations.\n",
    "Rather than dropping some of the high-correlating features , we can use PCA - which will engeneer a few new features (components) which include most of the data variablity found in the dataset."
   ]
  },
  {
   "cell_type": "code",
   "execution_count": 62,
   "metadata": {},
   "outputs": [
    {
     "name": "stdout",
     "output_type": "stream",
     "text": [
      "(15, 15)\n",
      "Eigen values:\n",
      " [1.00505213e+01 1.94405395e+00 1.47374656e+00 9.40082927e-01\n",
      " 1.90710995e-01 1.11369493e-01 1.00513370e-01 5.69775327e-02\n",
      " 5.17672449e-02 4.24334092e-02 2.35881295e-02 1.09141229e-02\n",
      " 2.47027033e-04 1.93922022e-03 1.13471082e-03]\n",
      "Eigen values Shape: (15,)\n",
      "Eigen Vector Shape: (15, 15)\n",
      "3\n"
     ]
    },
    {
     "data": {
      "image/png": "[encoded data removed]",
      "text/plain": [
       "<Figure size 500x700 with 2 Axes>"
      ]
     },
     "metadata": {},
     "output_type": "display_data"
    }
   ],
   "source": [
    "from sklearn.decomposition import PCA\n",
    "\n",
    "# PCA is sensitive to the scale of the data. Therefore, we need to standardize the data before applying PCA.\n",
    "X_mean = X.mean()\n",
    "# Standard deviation\n",
    "X_std = X.std()\n",
    "# Standardization\n",
    "Z = (X - X_mean) / X_std\n",
    "# covariance\n",
    "c = Z.cov()\n",
    "print(c.shape)\n",
    "\n",
    "# # Plot the covariance matrix\n",
    "# import matplotlib.pyplot as plt\n",
    "# import seaborn as sns\n",
    "# plt.figure(figsize =(8, 7))\n",
    "# sns.heatmap(c, cmap='summer' , fmt=\".2f\")\n",
    "# plt.title('Covariance Matrix of standartized data')\n",
    "# plt.show()\n",
    "\n",
    "#compute the eigenvectors and eigenvalues for our features , this is important for identifying the principal components for our feature space.\n",
    "eigenvalues, eigenvectors = np.linalg.eig(c)\n",
    "print('Eigen values:\\n', eigenvalues)\n",
    "print('Eigen values Shape:', eigenvalues.shape)\n",
    "print('Eigen Vector Shape:', eigenvectors.shape)\n",
    "\n",
    "# Sort the eigenvalues in descending order and sort the corresponding eigenvectors accordingly.\n",
    "# Index the eigenvalues in descending order \n",
    "idx = eigenvalues.argsort()[::-1]\n",
    "# Sort the eigenvalues in descending order \n",
    "eigenvalues = eigenvalues[idx]\n",
    "# sort the corresponding eigenvectors accordingly\n",
    "eigenvectors = eigenvectors[:,idx]\n",
    "# the amount of the total variance which has been retained by selecting the principal components instead of the original feature space.\n",
    "explained_var = np.cumsum(eigenvalues) / np.sum(eigenvalues)\n",
    "explained_var\n",
    "\n",
    "#considering explained variance more than equal to 80%. \n",
    "# Let’s check how many principal components come into this.\n",
    "n_components = np.argmax(explained_var >= 0.80) + 1\n",
    "print(n_components)\n",
    "columns = ['PC'+str(i) for i in range(1,n_components+1)]\n",
    "\n",
    "# PCA component or unit matrix\n",
    "u = eigenvectors[:,:n_components]\n",
    "pca_component = pd.DataFrame(u,\n",
    "                             index = X.columns,\n",
    "                             columns = columns\n",
    "                            )\n",
    "\n",
    "# plotting heatmap\n",
    "pca_component.shape\n",
    "pca_component.head(2)\n",
    "plt.figure(figsize =(5, 7))\n",
    "sns.heatmap(pca_component, annot=True, cmap='summer', fmt=\".2f\")\n",
    "plt.title('PCA Component')\n",
    "plt.show()\n",
    "\n",
    "\n"
   ]
  },
  {
   "cell_type": "markdown",
   "metadata": {},
   "source": [
    "Here from the plot we can see that two PCA components can explain up to 0.7 of data variance in dataset , so that the multicollinearity problem should be corrected."
   ]
  },
  {
   "cell_type": "code",
   "execution_count": 63,
   "metadata": {},
   "outputs": [
    {
     "name": "stdout",
     "output_type": "stream",
     "text": [
      "          PC1       PC2       PC3\n",
      "0    6.704514  1.270795 -3.818683\n",
      "1    3.643602  1.816435 -0.031304\n",
      "2    4.876675  0.154797 -0.642165\n",
      "3    1.468997 -3.742649 -2.743253\n",
      "4    3.993635  2.457778 -1.535294\n",
      "..        ...       ...       ...\n",
      "564  6.791521  2.129333  0.474791\n",
      "565  4.703842  0.142316  2.631662\n",
      "566  1.935777 -1.162498  1.783372\n",
      "567  7.920882 -3.763795 -0.444807\n",
      "568 -3.859675 -0.239735  2.344803\n",
      "\n",
      "[569 rows x 3 columns]\n",
      " explained_variance_ratio_: [0.67003475 0.1296036  0.09824977]\n",
      " total explained_variance_ratio_: 0.8978881211854574\n",
      " total components : 3\n"
     ]
    },
    {
     "data": {
      "image/png": "[encoded data removed]",
      "text/plain": [
       "<Figure size 700x600 with 1 Axes>"
      ]
     },
     "metadata": {},
     "output_type": "display_data"
    }
   ],
   "source": [
    "# Same using sklearn\n",
    "pca = PCA(n_components=n_components)\n",
    "pca.fit(Z)\n",
    "x_pca = pca.transform(Z)\n",
    "\n",
    "# Create the dataframe\n",
    "df_pca1 = pd.DataFrame(x_pca,\n",
    "                       columns=['PC{}'.\n",
    "                       format(i+1)\n",
    "                        for i in range(n_components)])\n",
    "print(df_pca1)\n",
    "\n",
    "print(f\" explained_variance_ratio_: {pca.explained_variance_ratio_}\")\n",
    "transformed_pca = pca.transform(X)\n",
    "print(f\" total explained_variance_ratio_: {sum(pca.explained_variance_ratio_)}\")\n",
    "print(f\" total components : {pca.components_.shape[0]}\")\n",
    "\n",
    "plt.figure(2, figsize=(7, 6))\n",
    "plt.clf()\n",
    "plt.axes([.2, .2, .7, .7])\n",
    "plt.plot(range(1, pca.components_.shape[0]+1), np.cumsum(pca.explained_variance_ratio_), linewidth=2)\n",
    "plt.axis('tight')\n",
    "plt.xlabel('n_components')\n",
    "plt.ylabel('Cumulative Explained Variance Ratio')\n",
    "plt.title('n_components vs. Cumulative Explained Variance Ratio')\n",
    "plt.show()"
   ]
  },
  {
   "cell_type": "markdown",
   "metadata": {},
   "source": [
    "# Save to a pkl - feature engineering "
   ]
  },
  {
   "cell_type": "code",
   "execution_count": 64,
   "metadata": {},
   "outputs": [
    {
     "name": "stdout",
     "output_type": "stream",
     "text": [
      "(569, 16)\n"
     ]
    }
   ],
   "source": [
    "\n",
    "\n",
    "df_model = X.copy()\n",
    "df_model['diagnosis'] = y.copy()\n",
    "#print(df_model.tail(2))\n",
    "print(df_model.shape)\n",
    "#sns.heatmap(df_model.corr(), annot=True, cmap='summer', fmt=\".2f\")\n",
    "df_model.to_pickle('IntermidiateData/4_FeatureEngeneering_Cancer_Data.pkl')"
   ]
  }
 ],
 "metadata": {
  "kernelspec": {
   "display_name": "Python 3",
   "language": "python",
   "name": "python3"
  },
  "language_info": {
   "codemirror_mode": {
    "name": "ipython",
    "version": 3
   },
   "file_extension": ".py",
   "mimetype": "text/x-python",
   "name": "python",
   "nbconvert_exporter": "python",
   "pygments_lexer": "ipython3",
   "version": "3.10.12"
  }
 },
 "nbformat": 4,
 "nbformat_minor": 2
}
